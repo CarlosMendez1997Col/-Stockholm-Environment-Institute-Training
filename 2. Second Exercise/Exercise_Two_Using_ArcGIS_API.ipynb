{
 "cells": [
  {
   "cell_type": "markdown",
   "metadata": {},
   "source": [
    "# Solution Exercise 2\n",
    "\n",
    "<div class=\"alert alert-info\">\n",
    "    <b>Exercise objectives:</b>\n",
    "\n",
    "1. Read a CSV file with tabular data.\n",
    "2. Calculate and display the following statistics on the screen:\n",
    "\n",
    "• Number of rows\n",
    "\n",
    "• Number of columns\n",
    "\n",
    "• Mean of the time series of the variable of interest\n",
    "\n",
    "</div>\n",
    "\n",
    "### Solution using a simple script in ArcGIS API For python."
   ]
  },
  {
   "cell_type": "markdown",
   "metadata": {},
   "source": [
    "# ArcGIS API For Python"
   ]
  },
  {
   "cell_type": "markdown",
   "metadata": {},
   "source": [
    "## Import of packages and libraries"
   ]
  },
  {
   "cell_type": "code",
   "execution_count": 2,
   "metadata": {},
   "outputs": [],
   "source": [
    "import numpy as np\n",
    "import pandas as pd\n",
    "import math\n",
    "import os\n",
    "import time\n",
    "\n",
    "from datetime import datetime as dt\n",
    "\n",
    "import arcpy\n",
    "from arcpy.sa import*\n",
    "from arcpy.ia import*\n",
    "from arcpy import env"
   ]
  },
  {
   "cell_type": "markdown",
   "metadata": {},
   "source": [
    "## Definition WorkSpace"
   ]
  },
  {
   "cell_type": "code",
   "execution_count": 3,
   "metadata": {},
   "outputs": [
    {
     "data": {
      "text/plain": [
       "'C:\\\\Users\\\\USUARIO\\\\Downloads\\\\SEI'"
      ]
     },
     "execution_count": 3,
     "metadata": {},
     "output_type": "execute_result"
    }
   ],
   "source": [
    "path = os.chdir(r'C:\\Users\\USUARIO\\Downloads\\SEI')\n",
    "path = os.getcwd()\n",
    "path"
   ]
  },
  {
   "cell_type": "markdown",
   "metadata": {},
   "source": [
    "## Import the Time Series in (.csv) format"
   ]
  },
  {
   "cell_type": "code",
   "execution_count": 6,
   "metadata": {},
   "outputs": [
    {
     "name": "stdout",
     "output_type": "stream",
     "text": [
      "<class 'pandas.core.frame.DataFrame'>\n",
      "RangeIndex: 12 entries, 0 to 11\n",
      "Data columns (total 2 columns):\n",
      " #   Column          Non-Null Count  Dtype  \n",
      "---  ------          --------------  -----  \n",
      " 0   Fecha           12 non-null     object \n",
      " 1   Series_Area_m2  12 non-null     float64\n",
      "dtypes: float64(1), object(1)\n",
      "memory usage: 324.0+ bytes\n",
      "None\n"
     ]
    }
   ],
   "source": [
    "data = pd.pandas.read_csv(r'ExampleExercise2.csv', parse_dates=True)\n",
    "print(data.info())"
   ]
  },
  {
   "cell_type": "markdown",
   "metadata": {},
   "source": [
    "## Query the main Statistics (Count, Mean, Std, Min, Max, etc.)"
   ]
  },
  {
   "cell_type": "code",
   "execution_count": 8,
   "metadata": {},
   "outputs": [
    {
     "name": "stdout",
     "output_type": "stream",
     "text": [
      "The Main Statistics of the variable 'Series_Area_m2' are:\n",
      "count    1.200000e+01\n",
      "mean     1.924672e+08\n",
      "std      9.501476e+07\n",
      "min      0.000000e+00\n",
      "25%      1.888352e+08\n",
      "50%      2.380025e+08\n",
      "75%      2.532880e+08\n",
      "max      2.532893e+08\n",
      "Name: Series_Area_m2, dtype: float64\n"
     ]
    }
   ],
   "source": [
    "field_name = \"Series_Area_m2\"\n",
    "if field_name in data.columns:\n",
    "    print(f\"The Main Statistics of the variable '{field_name}' are:\")\n",
    "    print(data[field_name].describe()) # Provides count, mean, std, min, max, quartiles\n",
    "else:\n",
    "    print(f\"Field '{field_name}' not found in the DataFrame.\")"
   ]
  },
  {
   "cell_type": "markdown",
   "metadata": {},
   "source": [
    "#### Resolve the first item (Number of rows)"
   ]
  },
  {
   "cell_type": "code",
   "execution_count": 12,
   "metadata": {},
   "outputs": [
    {
     "name": "stdout",
     "output_type": "stream",
     "text": [
      "Number of rows: 12\n"
     ]
    }
   ],
   "source": [
    "num_rows = len(data)\n",
    "print(f\"Number of rows: {num_rows}\")"
   ]
  },
  {
   "cell_type": "markdown",
   "metadata": {},
   "source": [
    "#### Resolve the second item (Number of columns)"
   ]
  },
  {
   "cell_type": "code",
   "execution_count": 14,
   "metadata": {},
   "outputs": [
    {
     "name": "stdout",
     "output_type": "stream",
     "text": [
      "2\n"
     ]
    }
   ],
   "source": [
    "num_columns = data.shape[1]\n",
    "print(num_columns)"
   ]
  },
  {
   "cell_type": "markdown",
   "metadata": {},
   "source": [
    "#### Resolve the third item (Mean of the time series of the variable of interest)"
   ]
  },
  {
   "cell_type": "code",
   "execution_count": 17,
   "metadata": {},
   "outputs": [
    {
     "name": "stdout",
     "output_type": "stream",
     "text": [
      "The average of the columns 'Series_Area_m2' is: 192467221.96249998\n"
     ]
    }
   ],
   "source": [
    "avg_series_area_m2 = data['Series_Area_m2'].mean()\n",
    "\n",
    "print(f\"The average of the columns '{field_name}' is: {avg_series_area_m2}\")"
   ]
  }
 ],
 "metadata": {
  "kernelspec": {
   "display_name": "ArcGISPro",
   "language": "python",
   "name": "python3"
  },
  "language_info": {
   "file_extension": ".py",
   "mimetype": "text/x-python",
   "name": "python",
   "version": "3.11.10"
  }
 },
 "nbformat": 4,
 "nbformat_minor": 4
}
